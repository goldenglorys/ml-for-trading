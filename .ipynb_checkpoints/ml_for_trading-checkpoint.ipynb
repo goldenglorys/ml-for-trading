{
 "cells": [
  {
   "cell_type": "markdown",
   "metadata": {},
   "source": [
    "### Before making an investment on the stock market\n",
    "Many factors are needed to be consider. We must know how information influences the movement of the stock price. We can use software to analyze and visualise the relationship and we can learn some detail about how the stock exchanges work. \n",
    "##### But we can use ML algorithms to build real trading strategies\n",
    "- Manipulating Financial Data in Python: learning how to read historical financial data into python and manipulate it by using powerful statistical algorithms\n",
    "- Computational Investing: learning algorithms, methods, & models used by hedge funds and investment banks to manipulate and work with financial data\n",
    "- Learning Algorithms for Trading: the collation of both learning above to build trading algorithms\n",
    "\n",
    "You'll be equiped to join a trading system development team l.e hedge fund or investment bank\n",
    "\n",
    "**RESOURCES**\n",
    "1. Python for Finance\n",
    "2. What Hedge Funds Really Does\n",
    "3. Machine Learnig bt Tom Mitchell"
   ]
  },
  {
   "cell_type": "code",
   "execution_count": 1,
   "metadata": {
    "collapsed": true
   },
   "outputs": [],
   "source": [
    "import numpy as np\n",
    "import pandas as pd\n",
    "# Datareader has to be installed separately: > conda install pandas-datareader\n",
    "# Module contains tools for collecting data from various remote sources\n",
    "import pandas_datareader.data as web\n",
    "import datetime as dt\n",
    "\n",
    "import matplotlib.pylab as plt\n",
    "import seaborn as sns\n",
    "\n",
    "sns.set_context('notebook')\n",
    "pd.set_option('float_format', '{:6.2f}'.format)\n",
    "\n",
    "# Ignore warnings. This is a temporary bug that should disappear in future versions of the libraries used here.\n",
    "import warnings\n",
    "warnings.filterwarnings(\"ignore\")"
   ]
  },
  {
   "cell_type": "code",
   "execution_count": null,
   "metadata": {
    "collapsed": true
   },
   "outputs": [
    {
     "name": "stdout",
     "output_type": "stream",
     "text": [
      "Timing: 0\n"
     ]
    }
   ],
   "source": [
    "start = dt.datetime(2010, 1, 1)\n",
    "end = dt.datetime(2010, 12, 31)\n",
    "\n",
    "tickers = {'Apple': 'AAPL'}\n",
    "prices = []\n",
    "count_time = 0\n",
    "\n",
    "for company, tic in tickers.items():\n",
    "    print(f\"Timing: {count_time}\")\n",
    "    df = web.DataReader(tic, 'yahoo', start=start, end=end)\n",
    "    df.rename(columns={'Close': company}, inplace=True)\n",
    "    prices.append(df)\n",
    "    count_time += 1\n",
    "\n",
    "prices = pd.concat(prices, axis=1)"
   ]
  },
  {
   "cell_type": "code",
   "execution_count": 4,
   "metadata": {
    "collapsed": true
   },
   "outputs": [
    {
     "name": "stdout",
     "output_type": "stream",
     "text": [
      "===============================================================\n"
     ]
    },
    {
     "ename": "AttributeError",
     "evalue": "'list' object has no attribute 'head'",
     "output_type": "error",
     "traceback": [
      "\u001b[1;31m---------------------------------------------------------------------------\u001b[0m",
      "\u001b[1;31mAttributeError\u001b[0m                            Traceback (most recent call last)",
      "\u001b[1;32m<ipython-input-4-e90b5ab7bd4f>\u001b[0m in \u001b[0;36m<module>\u001b[1;34m\u001b[0m\n\u001b[0;32m      1\u001b[0m \u001b[0mprint\u001b[0m\u001b[1;33m(\u001b[0m\u001b[1;34m'==============================================================='\u001b[0m\u001b[1;33m)\u001b[0m\u001b[1;33m\u001b[0m\u001b[1;33m\u001b[0m\u001b[0m\n\u001b[1;32m----> 2\u001b[1;33m \u001b[0mprint\u001b[0m\u001b[1;33m(\u001b[0m\u001b[0mprices\u001b[0m\u001b[1;33m.\u001b[0m\u001b[0mhead\u001b[0m\u001b[1;33m(\u001b[0m\u001b[1;33m)\u001b[0m\u001b[1;33m)\u001b[0m\u001b[1;33m\u001b[0m\u001b[1;33m\u001b[0m\u001b[0m\n\u001b[0m\u001b[0;32m      3\u001b[0m \u001b[0mprint\u001b[0m\u001b[1;33m(\u001b[0m\u001b[1;34m'==============================================================='\u001b[0m\u001b[1;33m)\u001b[0m\u001b[1;33m\u001b[0m\u001b[1;33m\u001b[0m\u001b[0m\n",
      "\u001b[1;31mAttributeError\u001b[0m: 'list' object has no attribute 'head'"
     ]
    }
   ],
   "source": [
    "print('===============================================================')\n",
    "print(prices.head())\n",
    "print('===============================================================')"
   ]
  },
  {
   "cell_type": "code",
   "execution_count": 5,
   "metadata": {},
   "outputs": [],
   "source": [
    "web.DataReader?"
   ]
  },
  {
   "cell_type": "code",
   "execution_count": null,
   "metadata": {},
   "outputs": [],
   "source": []
  }
 ],
 "metadata": {
  "kernelspec": {
   "display_name": "Python 3",
   "language": "python",
   "name": "python3"
  },
  "language_info": {
   "codemirror_mode": {
    "name": "ipython",
    "version": 3
   },
   "file_extension": ".py",
   "mimetype": "text/x-python",
   "name": "python",
   "nbconvert_exporter": "python",
   "pygments_lexer": "ipython3",
   "version": "3.8.3"
  }
 },
 "nbformat": 4,
 "nbformat_minor": 4
}
