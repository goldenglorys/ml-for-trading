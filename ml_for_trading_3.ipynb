{
 "cells": [
  {
   "cell_type": "markdown",
   "metadata": {},
   "source": [
    "#### Getting Daily Returns of stock"
   ]
  },
  {
   "cell_type": "code",
   "execution_count": 13,
   "metadata": {},
   "outputs": [],
   "source": [
    "import pandas as pd\n",
    "import datetime as dt\n",
    "import pandas_datareader.data as web\n",
    "import matplotlib.pylab as plt"
   ]
  },
  {
   "cell_type": "code",
   "execution_count": 3,
   "metadata": {},
   "outputs": [],
   "source": [
    "# Get the SPY - ETF data from the web\n",
    "start = dt.datetime(2010, 1, 1)\n",
    "end = dt.datetime(2012, 1, 30)\n",
    "dfSPY = web.DataReader(\"SPY\", \"yahoo\", start=start, end=end)"
   ]
  },
  {
   "cell_type": "markdown",
   "metadata": {},
   "source": [
    "#### Computing of Daily Returns\n",
    "- daily_returns[for_date] = (price[present_stock_price] / price[previous_stock_price - 1]) - 1\n",
    "- cumulative_returns[for-date] = (price[present_stock_price] / price[of_stock_beginning]) - 1"
   ]
  },
  {
   "cell_type": "code",
   "execution_count": 22,
   "metadata": {},
   "outputs": [],
   "source": [
    "daily_returns = dfSPY.copy()"
   ]
  },
  {
   "cell_type": "code",
   "execution_count": 23,
   "metadata": {},
   "outputs": [],
   "source": [
    "daily_returns[1:] = (dfSPY[1:] / dfSPY[:-1].values) - 1\n",
    "daily_returns.iloc[0, :] = 0 # Set daily returns for row 0 to 0 "
   ]
  },
  {
   "cell_type": "code",
   "execution_count": 24,
   "metadata": {},
   "outputs": [
    {
     "data": {
      "text/html": [
       "<div>\n",
       "<style scoped>\n",
       "    .dataframe tbody tr th:only-of-type {\n",
       "        vertical-align: middle;\n",
       "    }\n",
       "\n",
       "    .dataframe tbody tr th {\n",
       "        vertical-align: top;\n",
       "    }\n",
       "\n",
       "    .dataframe thead th {\n",
       "        text-align: right;\n",
       "    }\n",
       "</style>\n",
       "<table border=\"1\" class=\"dataframe\">\n",
       "  <thead>\n",
       "    <tr style=\"text-align: right;\">\n",
       "      <th></th>\n",
       "      <th>High</th>\n",
       "      <th>Low</th>\n",
       "      <th>Open</th>\n",
       "      <th>Close</th>\n",
       "      <th>Volume</th>\n",
       "      <th>Adj Close</th>\n",
       "    </tr>\n",
       "    <tr>\n",
       "      <th>Date</th>\n",
       "      <th></th>\n",
       "      <th></th>\n",
       "      <th></th>\n",
       "      <th></th>\n",
       "      <th></th>\n",
       "      <th></th>\n",
       "    </tr>\n",
       "  </thead>\n",
       "  <tbody>\n",
       "    <tr>\n",
       "      <th>2010-01-04</th>\n",
       "      <td>0.000000</td>\n",
       "      <td>0.000000</td>\n",
       "      <td>0.000000</td>\n",
       "      <td>0.000000</td>\n",
       "      <td>0.000000</td>\n",
       "      <td>0.000000</td>\n",
       "    </tr>\n",
       "    <tr>\n",
       "      <th>2010-01-05</th>\n",
       "      <td>0.002558</td>\n",
       "      <td>0.012017</td>\n",
       "      <td>0.007920</td>\n",
       "      <td>0.002647</td>\n",
       "      <td>-0.061917</td>\n",
       "      <td>0.002647</td>\n",
       "    </tr>\n",
       "    <tr>\n",
       "      <th>2010-01-06</th>\n",
       "      <td>0.002727</td>\n",
       "      <td>0.005140</td>\n",
       "      <td>0.002296</td>\n",
       "      <td>0.000704</td>\n",
       "      <td>0.040281</td>\n",
       "      <td>0.000704</td>\n",
       "    </tr>\n",
       "    <tr>\n",
       "      <th>2010-01-07</th>\n",
       "      <td>0.002983</td>\n",
       "      <td>-0.002204</td>\n",
       "      <td>-0.000176</td>\n",
       "      <td>0.004221</td>\n",
       "      <td>0.129371</td>\n",
       "      <td>0.004222</td>\n",
       "    </tr>\n",
       "    <tr>\n",
       "      <th>2010-01-08</th>\n",
       "      <td>0.002537</td>\n",
       "      <td>0.004241</td>\n",
       "      <td>0.003436</td>\n",
       "      <td>0.003328</td>\n",
       "      <td>-0.035764</td>\n",
       "      <td>0.003327</td>\n",
       "    </tr>\n",
       "    <tr>\n",
       "      <th>...</th>\n",
       "      <td>...</td>\n",
       "      <td>...</td>\n",
       "      <td>...</td>\n",
       "      <td>...</td>\n",
       "      <td>...</td>\n",
       "      <td>...</td>\n",
       "    </tr>\n",
       "    <tr>\n",
       "      <th>2012-01-24</th>\n",
       "      <td>-0.005671</td>\n",
       "      <td>-0.002901</td>\n",
       "      <td>-0.005399</td>\n",
       "      <td>-0.001140</td>\n",
       "      <td>-0.202733</td>\n",
       "      <td>-0.001140</td>\n",
       "    </tr>\n",
       "    <tr>\n",
       "      <th>2012-01-25</th>\n",
       "      <td>0.010418</td>\n",
       "      <td>0.001148</td>\n",
       "      <td>0.003517</td>\n",
       "      <td>0.008367</td>\n",
       "      <td>0.926725</td>\n",
       "      <td>0.008367</td>\n",
       "    </tr>\n",
       "    <tr>\n",
       "      <th>2012-01-26</th>\n",
       "      <td>0.003989</td>\n",
       "      <td>0.004665</td>\n",
       "      <td>0.014399</td>\n",
       "      <td>-0.005130</td>\n",
       "      <td>-0.069143</td>\n",
       "      <td>-0.005130</td>\n",
       "    </tr>\n",
       "    <tr>\n",
       "      <th>2012-01-27</th>\n",
       "      <td>-0.010120</td>\n",
       "      <td>-0.001599</td>\n",
       "      <td>-0.014345</td>\n",
       "      <td>-0.000455</td>\n",
       "      <td>-0.268397</td>\n",
       "      <td>-0.000455</td>\n",
       "    </tr>\n",
       "    <tr>\n",
       "      <th>2012-01-30</th>\n",
       "      <td>-0.004619</td>\n",
       "      <td>-0.008311</td>\n",
       "      <td>-0.005562</td>\n",
       "      <td>-0.003414</td>\n",
       "      <td>0.089108</td>\n",
       "      <td>-0.003414</td>\n",
       "    </tr>\n",
       "  </tbody>\n",
       "</table>\n",
       "<p>523 rows × 6 columns</p>\n",
       "</div>"
      ],
      "text/plain": [
       "                High       Low      Open     Close    Volume  Adj Close\n",
       "Date                                                                   \n",
       "2010-01-04  0.000000  0.000000  0.000000  0.000000  0.000000   0.000000\n",
       "2010-01-05  0.002558  0.012017  0.007920  0.002647 -0.061917   0.002647\n",
       "2010-01-06  0.002727  0.005140  0.002296  0.000704  0.040281   0.000704\n",
       "2010-01-07  0.002983 -0.002204 -0.000176  0.004221  0.129371   0.004222\n",
       "2010-01-08  0.002537  0.004241  0.003436  0.003328 -0.035764   0.003327\n",
       "...              ...       ...       ...       ...       ...        ...\n",
       "2012-01-24 -0.005671 -0.002901 -0.005399 -0.001140 -0.202733  -0.001140\n",
       "2012-01-25  0.010418  0.001148  0.003517  0.008367  0.926725   0.008367\n",
       "2012-01-26  0.003989  0.004665  0.014399 -0.005130 -0.069143  -0.005130\n",
       "2012-01-27 -0.010120 -0.001599 -0.014345 -0.000455 -0.268397  -0.000455\n",
       "2012-01-30 -0.004619 -0.008311 -0.005562 -0.003414  0.089108  -0.003414\n",
       "\n",
       "[523 rows x 6 columns]"
      ]
     },
     "execution_count": 24,
     "metadata": {},
     "output_type": "execute_result"
    }
   ],
   "source": [
    "daily_returns"
   ]
  },
  {
   "cell_type": "code",
   "execution_count": 25,
   "metadata": {},
   "outputs": [
    {
     "data": {
      "image/png": "[encoded data removed]",
      "text/plain": [
       "<Figure size 432x288 with 1 Axes>"
      ]
     },
     "metadata": {
      "needs_background": "light"
     },
     "output_type": "display_data"
    }
   ],
   "source": [
    "daily_returns['Close'].plot(title=\"Daily Returns\")\n",
    "plt.show()"
   ]
  },
  {
   "cell_type": "code",
   "execution_count": 31,
   "metadata": {},
   "outputs": [
    {
     "data": {
      "image/png": "[encoded data removed]",
      "text/plain": [
       "<Figure size 432x288 with 1 Axes>"
      ]
     },
     "metadata": {
      "needs_background": "light"
     },
     "output_type": "display_data"
    }
   ],
   "source": [
    "daily_returns['Close'].hist(bins=20) # The default number of bins is 10...it can either be decrease or increase\n",
    "plt.show()"
   ]
  },
  {
   "cell_type": "markdown",
   "metadata": {},
   "source": [
    "#### Adding mean and standard deviation line on the plot visualization"
   ]
  },
  {
   "cell_type": "code",
   "execution_count": 40,
   "metadata": {},
   "outputs": [
    {
     "name": "stdout",
     "output_type": "stream",
     "text": [
      "Mean: 0.0003642739403100464\n",
      "STD: 0.01278275009987228\n"
     ]
    }
   ],
   "source": [
    "mean = daily_returns['Close'].mean()\n",
    "std = daily_returns['Close'].std()\n",
    "print(\"Mean: \" + str(mean))\n",
    "print(\"STD: \" + str(std))"
   ]
  },
  {
   "cell_type": "code",
   "execution_count": 46,
   "metadata": {},
   "outputs": [
    {
     "data": {
      "image/png": "[encoded data removed]",
      "text/plain": [
       "<Figure size 432x288 with 1 Axes>"
      ]
     },
     "metadata": {
      "needs_background": "light"
     },
     "output_type": "display_data"
    }
   ],
   "source": [
    "plt.axvline(mean, color='w', linestyle='dashed', linewidth=2)\n",
    "daily_returns['Close'].hist(bins=20)\n",
    "plt.show()"
   ]
  },
  {
   "cell_type": "code",
   "execution_count": null,
   "metadata": {},
   "outputs": [],
   "source": []
  }
 ],
 "metadata": {
  "kernelspec": {
   "display_name": "Python 3",
   "language": "python",
   "name": "python3"
  },
  "language_info": {
   "codemirror_mode": {
    "name": "ipython",
    "version": 3
   },
   "file_extension": ".py",
   "mimetype": "text/x-python",
   "name": "python",
   "nbconvert_exporter": "python",
   "pygments_lexer": "ipython3",
   "version": "3.8.3"
  }
 },
 "nbformat": 4,
 "nbformat_minor": 4
}
