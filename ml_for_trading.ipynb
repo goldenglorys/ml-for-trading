{
 "cells": [
  {
   "cell_type": "markdown",
   "metadata": {},
   "source": [
    "### Before making an investment on the stock market\n",
    "Many factors are needed to be consider. We must know how information influences the movement of the stock price. We can use software to analyze and visualise the relationship and we can learn some detail about how the stock exchanges work. \n",
    "##### But we can use ML algorithms to build real trading strategies\n",
    "- Manipulating Financial Data in Python: learning how to read historical financial data into python and manipulate it by using powerful statistical algorithms\n",
    "- Computational Investing: learning algorithms, methods, & models used by hedge funds and investment banks to manipulate and work with financial data\n",
    "- Learning Algorithms for Trading: the collation of both learning above to build trading algorithms\n",
    "\n",
    "You'll be equiped to join a trading system development team l.e hedge fund or investment bank\n",
    "\n",
    "**RESOURCES**\n",
    "1. Python for Finance\n",
    "2. What Hedge Funds Really Does\n",
    "3. Machine Learnig bt Tom Mitchell"
   ]
  },
  {
   "cell_type": "code",
   "execution_count": null,
   "metadata": {},
   "outputs": [],
   "source": []
  }
 ],
 "metadata": {
  "kernelspec": {
   "display_name": "Python 3",
   "language": "python",
   "name": "python3"
  },
  "language_info": {
   "codemirror_mode": {
    "name": "ipython",
    "version": 3
   },
   "file_extension": ".py",
   "mimetype": "text/x-python",
   "name": "python",
   "nbconvert_exporter": "python",
   "pygments_lexer": "ipython3",
   "version": "3.8.3"
  }
 },
 "nbformat": 4,
 "nbformat_minor": 4
}
