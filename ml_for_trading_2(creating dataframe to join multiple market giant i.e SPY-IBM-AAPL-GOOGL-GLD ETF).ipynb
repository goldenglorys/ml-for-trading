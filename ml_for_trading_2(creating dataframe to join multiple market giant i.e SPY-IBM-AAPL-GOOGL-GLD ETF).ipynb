{
 "cells": [
  {
   "cell_type": "markdown",
   "metadata": {},
   "source": [
    "**Building a meaning single dataframe using PANDAS**"
   ]
  },
  {
   "cell_type": "code",
   "execution_count": 19,
   "metadata": {},
   "outputs": [],
   "source": [
    "import pandas as pd\n",
    "import datetime as dt\n",
    "import pandas_datareader.data as web"
   ]
  },
  {
   "cell_type": "code",
   "execution_count": 41,
   "metadata": {},
   "outputs": [],
   "source": [
    "# Get the SPY - ETF data from the web\n",
    "start = dt.datetime(2010, 1, 1)\n",
    "end = dt.datetime(2010, 1, 30)\n",
    "dfSPY = web.DataReader(\"SPY\", \"yahoo\", start=start, end=end)"
   ]
  },
  {
   "cell_type": "code",
   "execution_count": 95,
   "metadata": {},
   "outputs": [
    {
     "name": "stdout",
     "output_type": "stream",
     "text": [
      "Date\n",
      "2010-01-04    91.841896\n",
      "2010-01-05    92.084984\n",
      "2010-01-06    92.149803\n",
      "2010-01-07    92.538841\n",
      "2010-01-08    92.846756\n",
      "2010-01-11    92.976433\n",
      "2010-01-12    92.109291\n",
      "2010-01-13    92.887291\n",
      "2010-01-14    93.138481\n",
      "2010-01-15    92.093094\n",
      "2010-01-19    93.243866\n",
      "2010-01-20    92.295685\n",
      "2010-01-21    90.520943\n",
      "2010-01-22    88.503036\n",
      "2010-01-25    88.956871\n",
      "2010-01-26    88.584091\n",
      "2010-01-27    89.005501\n",
      "2010-01-28    87.984398\n",
      "2010-01-29    87.028137\n",
      "Name: SPY, dtype: float64\n"
     ]
    }
   ],
   "source": [
    "def build_dataframe():\n",
    "    # Define the date range we want\n",
    "    start = '2010-01-01'\n",
    "    end = '2010-01-30'\n",
    "    dates = pd.date_range(start, end) # We get all the date range between the specify start and end date\n",
    "    df1 = pd.DataFrame(index=dates) # We created a dataframe with no columns but the index of the dates instead of 0-10...\n",
    "    # Let's combine the empty dataframe to SPY dataframe using join()\n",
    "    df1 = df1.join(dfSPY) # the default join is a left join here\n",
    "    df1 = dfSPY.rename(columns={\"Adj Close\": \"SPY\"})\n",
    "    # Let's drop the row that containd NaN Values\n",
    "    df1 = df1.dropna()\n",
    "    # Or we could just fill those NaN Values with 0 (ZEROS)\n",
    "#     df1 = df1.fillna(0)\n",
    "    print(df1['SPY'])\n",
    "    \n",
    "build_dataframe()"
   ]
  },
  {
   "cell_type": "markdown",
   "metadata": {},
   "source": [
    "**We need more than SPY data let's get for more stock and join their adj close into a single dataframe**"
   ]
  },
  {
   "cell_type": "code",
   "execution_count": 70,
   "metadata": {},
   "outputs": [
    {
     "name": "stdout",
     "output_type": "stream",
     "text": [
      "Starting process...\n",
      "Got S&P dataset...\n",
      "Got Google dataset...\n",
      "Got IBM dataset...\n",
      "Got Gold dataset...\n",
      "Process successful exiting now!\n"
     ]
    }
   ],
   "source": [
    "tickers = {\"S&P\": \"SPY\", \"Google\": \"GOOGL\", \"IBM\": \"IBM\", \"Gold\": \"GLD\"}\n",
    "prices = []\n",
    "\n",
    "print(\"Starting process...\")\n",
    "for company, tic in tickers.items():\n",
    "    df = web.DataReader(tic, 'yahoo', start=start, end=end)\n",
    "    prices.append(df)\n",
    "    print(f\"Got {company} dataset...\")\n",
    "print(\"Process successful exiting now!\")\n",
    "\n",
    "prices = pd.concat(prices, axis=1)"
   ]
  },
  {
   "cell_type": "code",
   "execution_count": 98,
   "metadata": {},
   "outputs": [
    {
     "name": "stdout",
     "output_type": "stream",
     "text": [
      "                  High         Low        Open       Close     Volume  \\\n",
      "Date                                                                    \n",
      "2010-01-04  113.389999  111.510002  112.370003  113.330002  118944600   \n",
      "2010-01-05  113.680000  112.849998  113.260002  113.629997  111579900   \n",
      "2010-01-06  113.989998  113.430000  113.519997  113.709999  116074400   \n",
      "2010-01-07  114.330002  113.180000  113.500000  114.190002  131091100   \n",
      "2010-01-08  114.620003  113.660004  113.889999  114.570000  126402800   \n",
      "\n",
      "                  GLD        High         Low        Open       Close  ...  \\\n",
      "Date                                                                   ...   \n",
      "2010-01-04  91.841896  315.070068  312.432434  313.788788  313.688690  ...   \n",
      "2010-01-05  92.084984  314.234222  311.081085  313.903900  312.307312  ...   \n",
      "2010-01-06  92.149803  313.243256  303.483490  313.243256  304.434448  ...   \n",
      "2010-01-07  92.538841  305.305298  296.621613  305.005005  297.347351  ...   \n",
      "2010-01-08  92.846756  301.926941  294.849854  296.296295  301.311310  ...   \n",
      "\n",
      "                  Open       Close   Volume        GLD        High  \\\n",
      "Date                                                                 \n",
      "2010-01-04  131.179993  132.449997  6155300  93.500313  110.139999   \n",
      "2010-01-05  131.679993  130.850006  6841400  92.370834  110.389999   \n",
      "2010-01-06  130.679993  130.000000  5605300  91.770790  111.769997   \n",
      "2010-01-07  129.869995  129.550003  5840600  91.453102  111.290001   \n",
      "2010-01-08  129.070007  130.850006  4197200  92.370834  111.580002   \n",
      "\n",
      "                   Low        Open       Close    Volume         GLD  \n",
      "Date                                                                  \n",
      "2010-01-04  109.309998  109.820000  109.800003  16224100  109.800003  \n",
      "2010-01-05  109.260002  109.879997  109.699997  14213100  109.699997  \n",
      "2010-01-06  110.410004  110.709999  111.510002  24981900  111.510002  \n",
      "2010-01-07  110.620003  111.070000  110.820000  13609800  110.820000  \n",
      "2010-01-08  110.260002  111.519997  111.370003  15894600  111.370003  \n",
      "\n",
      "[5 rows x 24 columns]\n"
     ]
    }
   ],
   "source": [
    "# Now we'll loop through the data and join into a single dataframe\n",
    "start = '2010-01-01'\n",
    "end = '2010-01-30'\n",
    "dates = pd.date_range(start, end)\n",
    "df2 = pd.DataFrame(index=dates)\n",
    "symbols = ['GOOG', 'IBM', 'GLD']\n",
    "for symbol in symbols:\n",
    "    df_multi = df2.join(prices)\n",
    "    df_multi = prices.rename(columns={\"Adj Close\": symbol})\n",
    "\n",
    "df_multi = df_multi.dropna()\n",
    "print(df_multi.head())"
   ]
  },
  {
   "cell_type": "code",
   "execution_count": null,
   "metadata": {},
   "outputs": [],
   "source": []
  }
 ],
 "metadata": {
  "kernelspec": {
   "display_name": "Python 3",
   "language": "python",
   "name": "python3"
  },
  "language_info": {
   "codemirror_mode": {
    "name": "ipython",
    "version": 3
   },
   "file_extension": ".py",
   "mimetype": "text/x-python",
   "name": "python",
   "nbconvert_exporter": "python",
   "pygments_lexer": "ipython3",
   "version": "3.8.3"
  }
 },
 "nbformat": 4,
 "nbformat_minor": 4
}
