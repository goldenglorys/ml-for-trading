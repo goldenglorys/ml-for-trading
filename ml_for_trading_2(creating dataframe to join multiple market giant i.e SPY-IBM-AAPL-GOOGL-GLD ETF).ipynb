{
 "cells": [
  {
   "cell_type": "markdown",
   "metadata": {},
   "source": [
    "**Building a meaning single dataframe using PANDAS**"
   ]
  },
  {
   "cell_type": "code",
   "execution_count": 23,
   "metadata": {},
   "outputs": [],
   "source": [
    "import pandas as pd\n",
    "import datetime as dt\n",
    "import pandas_datareader.data as web"
   ]
  },
  {
   "cell_type": "code",
   "execution_count": 102,
   "metadata": {},
   "outputs": [],
   "source": [
    "# Get the SPY - ETF data from the web\n",
    "start = dt.datetime(2010, 1, 1)\n",
    "end = dt.datetime(2010, 1, 30)\n",
    "dfSPY = web.DataReader(\"SPY\", \"yahoo\", start=start, end=end)['Adj Close']"
   ]
  },
  {
   "cell_type": "code",
   "execution_count": 110,
   "metadata": {},
   "outputs": [],
   "source": [
    "dates = pd.date_range(start, end) # We get all the date range between the specify start and end date\n",
    "df1 = pd.DataFrame(index=dates) # We created a dataframe with no columns but the index of the dates instead of 0-10...\n",
    "# Let's combine the empty dataframe to SPY dataframe using join()\n",
    "dfSPY = dfSPY.rename(\"SPY\")\n",
    "df1 = df1.join(dfSPY) # the default join is a left join here\n",
    "# Let's drop the row that containd NaN Values\n",
    "df1 = df1.dropna()\n",
    "# Or we could just fill those NaN Values with 0 (ZEROS)\n",
    "# df1 = df1.fillna(0)"
   ]
  },
  {
   "cell_type": "code",
   "execution_count": 108,
   "metadata": {},
   "outputs": [],
   "source": [
    "dfSPY.rename?"
   ]
  },
  {
   "cell_type": "markdown",
   "metadata": {},
   "source": [
    "**We need more than SPY data let's get for more stock and join their adj close into a single dataframe**"
   ]
  },
  {
   "cell_type": "code",
   "execution_count": 115,
   "metadata": {},
   "outputs": [
    {
     "name": "stdout",
     "output_type": "stream",
     "text": [
      "Starting process...\n",
      "Got Google dataset...\n",
      "Got IBM dataset...\n",
      "Got Gold dataset...\n",
      "Process successful exiting now!\n"
     ]
    }
   ],
   "source": [
    "tickers = {\"Google\": \"GOOGL\", \"IBM\": \"IBM\", \"Gold\": \"GLD\"}\n",
    "prices = []\n",
    "\n",
    "print(\"Starting process...\")\n",
    "for company, tic in tickers.items():\n",
    "    df = web.DataReader(tic, 'yahoo', start=start, end=end)['Adj Close']\n",
    "    df = df.rename(company)\n",
    "    df1 = df1.join(df)\n",
    "    print(f\"Got {company} dataset...\")\n",
    "print(\"Process successful exiting now!\")"
   ]
  },
  {
   "cell_type": "code",
   "execution_count": 116,
   "metadata": {},
   "outputs": [
    {
     "name": "stdout",
     "output_type": "stream",
     "text": [
      "                  SPY      Google        IBM        Gold\n",
      "2010-01-04  91.841896  313.688690  93.500313  109.800003\n",
      "2010-01-05  92.084984  312.307312  92.370834  109.699997\n",
      "2010-01-06  92.149803  304.434448  91.770790  111.510002\n",
      "2010-01-07  92.538841  297.347351  91.453102  110.820000\n",
      "2010-01-08  92.846756  301.311310  92.370834  111.370003\n",
      "2010-01-11  92.976433  300.855865  91.403702  112.849998\n",
      "2010-01-12  92.109291  295.535522  92.130806  110.489998\n",
      "2010-01-13  92.887291  293.838837  91.933167  111.540001\n",
      "2010-01-14  93.138481  295.220215  93.401497  112.029999\n",
      "2010-01-15  92.093094  290.290283  93.027351  110.860001\n",
      "2010-01-19  93.243866  294.104095  94.693321  111.519997\n",
      "2010-01-20  92.295685  290.495483  91.947273  108.940002\n",
      "2010-01-21  90.520943  291.781769  91.064850  107.370003\n",
      "2010-01-22  88.503036  275.280273  88.594124  107.169998\n",
      "2010-01-25  88.956871  270.270264  89.031784  107.480003\n",
      "2010-01-26  88.584091  271.481476  88.770592  107.559998\n",
      "2010-01-27  89.005501  271.321320  89.180031  106.529999\n",
      "2010-01-28  87.984398  267.412415  87.358727  106.480003\n",
      "2010-01-29  87.028137  265.235229  86.398659  105.959999\n"
     ]
    }
   ],
   "source": [
    "print(df1)"
   ]
  }
 ],
 "metadata": {
  "kernelspec": {
   "display_name": "Python 3",
   "language": "python",
   "name": "python3"
  },
  "language_info": {
   "codemirror_mode": {
    "name": "ipython",
    "version": 3
   },
   "file_extension": ".py",
   "mimetype": "text/x-python",
   "name": "python",
   "nbconvert_exporter": "python",
   "pygments_lexer": "ipython3",
   "version": "3.8.3"
  }
 },
 "nbformat": 4,
 "nbformat_minor": 4
}
